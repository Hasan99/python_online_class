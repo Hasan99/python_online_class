{
 "cells": [
  {
   "cell_type": "markdown",
   "metadata": {},
   "source": [
    "# Question1:\n",
    "# Use a dictionary to store information about a person you know. Store their first name, last name, age, and the city in which they live. You should have keys such as first_name, last_name, age, and city. Print each piece of information stored in your dictionary. Add a new key value pair about qualification thenupdate the qualification value to high academic level then delete it."
   ]
  },
  {
   "cell_type": "code",
   "execution_count": 1,
   "metadata": {},
   "outputs": [
    {
     "name": "stdout",
     "output_type": "stream",
     "text": [
      "First_Name : Hasan Mohiuddin\n",
      "Last_Name : Ahmed\n",
      "Age : 24\n",
      "City : Karachi\n",
      "\n",
      "** After adding Qualification **\n",
      "\n",
      "First_Name : Hasan Mohiuddin\n",
      "Last_Name : Ahmed\n",
      "Age : 24\n",
      "City : Karachi\n",
      "Qualification : Masters\n",
      "\n",
      "** After updating Qualification **\n",
      "\n",
      "First_Name : Hasan Mohiuddin\n",
      "Last_Name : Ahmed\n",
      "Age : 24\n",
      "City : Karachi\n",
      "Qualification : High Academic Level\n",
      "\n",
      "** After deleting Qualification **\n",
      "\n",
      "First_Name : Hasan Mohiuddin\n",
      "Last_Name : Ahmed\n",
      "Age : 24\n",
      "City : Karachi\n"
     ]
    }
   ],
   "source": [
    "person = {\n",
    "    \"first_name\": \"hasan mohiuddin\",\n",
    "    \"last_name\": \"ahmed\",\n",
    "    \"age\": \"24\",\n",
    "    \"city\": \"karachi\"\n",
    "}\n",
    "\n",
    "for key, value in person.items():\n",
    "    print(key.title(), \":\", value.title())\n",
    "\n",
    "person[\"qualification\"] = \"masters\"\n",
    "\n",
    "print(\"\\n\", \"** After adding Qualification **\\n\", end=\"\\n\", sep=\"\")\n",
    "\n",
    "for key, value in person.items():\n",
    "    print(key.title(), \":\", value.title())\n",
    "\n",
    "person[\"qualification\"] = \"high academic level\"\n",
    "\n",
    "print(\"\\n\", \"** After updating Qualification **\\n\", end=\"\\n\", sep=\"\")\n",
    "\n",
    "for key, value in person.items():\n",
    "    print(key.title(), \":\", value.title())\n",
    "\n",
    "del person[\"qualification\"]\n",
    "\n",
    "print(\"\\n\", \"** After deleting Qualification **\\n\", end=\"\\n\", sep=\"\")\n",
    "\n",
    "for key, value in person.items():\n",
    "    print(key.title(), \":\", value.title())\n"
   ]
  },
  {
   "cell_type": "markdown",
   "metadata": {},
   "source": [
    "# Question2:\n",
    "# Make a dictionary called cities. Use the names of three cities as keys in your dictionary. Create a dictionary of information about each city and include the country that the city is in, its approximate population, and one fact about that city. The keys for each city’s dictionary should be something like country, population, and fact. Print the name of each city and all of the information you have stored about it."
   ]
  },
  {
   "cell_type": "code",
   "execution_count": 2,
   "metadata": {},
   "outputs": [
    {
     "name": "stdout",
     "output_type": "stream",
     "text": [
      "Paris:\n",
      "\t\tCountry: France\n",
      "\t\tPopulation: 2.14 million\n",
      "\t\tFact: It’s believed that paris only has one stop sign in the entire city.\n",
      "Rome:\n",
      "\t\tCountry: Italy\n",
      "\t\tPopulation: 4.49 million\n",
      "\t\tFact: Modern rome has 280 fountains and more than 900 churches.\n",
      "Karachi:\n",
      "\t\tCountry: Pakistan\n",
      "\t\tPopulation: 15,741,000\n",
      "\t\tFact: Karachi is also known as city of lights.\n"
     ]
    }
   ],
   "source": [
    "cities = {\n",
    "    \"paris\":\n",
    "        {\n",
    "            \"country\": \"france\",\n",
    "            \"population\": \"2.14 million\",\n",
    "            \"fact\": \"It’s believed that Paris only has one stop sign in the entire city.\",\n",
    "        },\n",
    "    \"rome\":\n",
    "        {\n",
    "            \"country\": \"italy\",\n",
    "            \"population\": \"4.49 million\",\n",
    "            \"fact\": \"Modern Rome has 280 fountains and more than 900 churches.\",\n",
    "        },\n",
    "    \"karachi\":\n",
    "        {\n",
    "            \"country\": \"pakistan\",\n",
    "            \"population\": \"15,741,000\",\n",
    "            \"fact\": \"Karachi is also known as City of Lights.\",\n",
    "        },\n",
    "}\n",
    "\n",
    "for city in cities:\n",
    "    print(f\"{city.title()}:\")\n",
    "    for k, v in cities[city].items():\n",
    "        print(f\"\\t\\t{k.title()}: {v.capitalize()}\")\n"
   ]
  },
  {
   "cell_type": "markdown",
   "metadata": {},
   "source": [
    "# Question3:\n",
    "# A movie theater charges different ticket prices depending on a person’s age. If a person is under the age of 3, the ticket is free; if they are between 3 and 12, the ticket is 10 Dollar, and if they are over age 12, the ticket is 15 Dollar. Write a loop in which you ask users their age, and then tell them the cost of their movie ticket."
   ]
  },
  {
   "cell_type": "code",
   "execution_count": 1,
   "metadata": {},
   "outputs": [
    {
     "name": "stdout",
     "output_type": "stream",
     "text": [
      "Enter s to stop!\n",
      "\n",
      "Enter Age: 24\n",
      "\n",
      "Ticket Price is $15\n",
      "\n",
      "Enter Age: s\n",
      "\n",
      "\tTHANK YOU!\n"
     ]
    }
   ],
   "source": [
    "print(\"Enter s to stop!\")\n",
    "\n",
    "while True:\n",
    "    store_age = input(\"\\nEnter Age: \")\n",
    "    if store_age in \"sS\":\n",
    "        print(\"\\n\\tTHANK YOU!\")\n",
    "        break\n",
    "    else:\n",
    "        if int(store_age) >= 1 and int(store_age) <= 3:\n",
    "            print(\"\\nYour Ticket is Free!\")\n",
    "        elif int(store_age) > 3 and int(store_age) <= 12:\n",
    "            print(\"\\nTicket Price is $10\")\n",
    "        elif int(store_age) > 12:\n",
    "            print(\"\\nTicket Price is $15\")\n",
    "        else:\n",
    "            print(\"\\nInvalid Age!\")\n"
   ]
  },
  {
   "cell_type": "markdown",
   "metadata": {},
   "source": [
    "# Question4:\n",
    "# Write a function called favorite_book() that accepts one parameter, title. The function should print a message, such as One of my favorite books is Alice in Wonderland. Call the function, making sure to include a book title as an argument in the function call."
   ]
  },
  {
   "cell_type": "code",
   "execution_count": 2,
   "metadata": {},
   "outputs": [
    {
     "name": "stdout",
     "output_type": "stream",
     "text": [
      "One of my favorite books is The Prince and The Pauper.\n"
     ]
    }
   ],
   "source": [
    "def favourite_book(title):\n",
    "    print(f\"One of my favorite books is {title}.\")\n",
    "\n",
    "\n",
    "favourite_book(\"The Prince and The Pauper\")\n"
   ]
  },
  {
   "cell_type": "markdown",
   "metadata": {},
   "source": [
    "# Question5:\n",
    "# Guess the number game. Write a program which randomly generate a number between 1 to 30 and ask the user in input field to guess the correct number. Give three chances to user guess the number and also give hint to user if hidden number is greater or smaller than the number he given to input field."
   ]
  },
  {
   "cell_type": "code",
   "execution_count": 3,
   "metadata": {},
   "outputs": [
    {
     "name": "stdout",
     "output_type": "stream",
     "text": [
      "\n",
      "Guess a Number: 10\n",
      "\n",
      "Given number is less than the Correct Number!\n",
      "\n",
      "Guess a Number: 15\n",
      "\n",
      "Given number is less than the Correct Number!\n",
      "\n",
      "Guess a Number: 25\n",
      "\n",
      "Given number is less than the Correct Number!\n",
      "\n",
      "\tGAME OVER!\n"
     ]
    }
   ],
   "source": [
    "import random\n",
    "\n",
    "number = random.randrange(1, 31)\n",
    "count = 0\n",
    "flag = True\n",
    "\n",
    "while count != 3:\n",
    "    guessed_number = int(input(\"\\nGuess a Number: \"))\n",
    "    count += 1\n",
    "    if guessed_number == number:\n",
    "        print(\"\\n\\tYOU WIN!\")\n",
    "        flag = False\n",
    "        break\n",
    "    elif guessed_number < number:\n",
    "        print(\"\\nGiven number is less than the Correct Number!\")\n",
    "    elif guessed_number > number:\n",
    "        print(\"\\nGiven number is greater than the Correct Number!\")\n",
    "\n",
    "if flag:\n",
    "    print(\"\\n\\tGAME OVER!\")\n"
   ]
  }
 ],
 "metadata": {
  "kernelspec": {
   "display_name": "Python 3",
   "language": "python",
   "name": "python3"
  },
  "language_info": {
   "codemirror_mode": {
    "name": "ipython",
    "version": 3
   },
   "file_extension": ".py",
   "mimetype": "text/x-python",
   "name": "python",
   "nbconvert_exporter": "python",
   "pygments_lexer": "ipython3",
   "version": "3.7.3"
  }
 },
 "nbformat": 4,
 "nbformat_minor": 2
}
