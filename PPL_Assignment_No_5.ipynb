{
 "cells": [
  {
   "cell_type": "markdown",
   "metadata": {},
   "source": [
    "# Python Assignment # 5"
   ]
  },
  {
   "cell_type": "markdown",
   "metadata": {},
   "source": [
    "# Question:1\n",
    "# Write a Python function to calculate the factorial of a number (a non-negative integer). The function accepts the number as an argument."
   ]
  },
  {
   "cell_type": "code",
   "execution_count": 1,
   "metadata": {},
   "outputs": [
    {
     "name": "stdout",
     "output_type": "stream",
     "text": [
      "Factorial of 3 is = 6\n"
     ]
    }
   ],
   "source": [
    "def get_factorial(number):\n",
    "    if number > 0:\n",
    "        factorial = 1\n",
    "        for num in range(1, number + 1):\n",
    "            factorial = factorial * num\n",
    "        print(f\"Factorial of {number} is = {factorial}\")\n",
    "    else:\n",
    "        print(\"Enter a Non-negative Number!\")\n",
    "\n",
    "\n",
    "get_factorial(3)\n"
   ]
  },
  {
   "cell_type": "markdown",
   "metadata": {},
   "source": [
    "# Question:2\n",
    "# Write a Python function that accepts a string and calculate the number of uppercase letters and lower case letters."
   ]
  },
  {
   "cell_type": "code",
   "execution_count": 2,
   "metadata": {},
   "outputs": [
    {
     "name": "stdout",
     "output_type": "stream",
     "text": [
      "Input Word : pakPAK\n",
      "Total no. of uppercase letters = 3\n",
      "Total no. of lowercase letters = 3\n"
     ]
    }
   ],
   "source": [
    "def count_upper_lower(word):\n",
    "    upper_count = 0\n",
    "    lower_count = 0\n",
    "    print(f\"Input Word : {word}\")\n",
    "\n",
    "    for letter in word:\n",
    "        if letter.isupper():\n",
    "            upper_count += 1\n",
    "        elif letter.islower():\n",
    "            lower_count += 1\n",
    "\n",
    "    print(f\"Total no. of uppercase letters = {upper_count}\")\n",
    "    print(f\"Total no. of lowercase letters = {lower_count}\")\n",
    "\n",
    "\n",
    "count_upper_lower(\"pakPAK\")\n"
   ]
  },
  {
   "cell_type": "markdown",
   "metadata": {},
   "source": [
    "# Question:3\n",
    "# Write a Python function to print the even numbers from a given list."
   ]
  },
  {
   "cell_type": "code",
   "execution_count": 1,
   "metadata": {},
   "outputs": [
    {
     "name": "stdout",
     "output_type": "stream",
     "text": [
      "Actual List: [1, 2, 3, 4, 5, 6, 7, 8, 9, 10]\n",
      "Even Numbers: 2 4 6 8 10 "
     ]
    }
   ],
   "source": [
    "def print_evens(numbers_list):\n",
    "    flag = True\n",
    "    print(\"Actual List:\", numbers_list)\n",
    "    \n",
    "    for number in numbers_list:\n",
    "        if number % 2 == 0:\n",
    "            if flag:\n",
    "                print(\"Even Numbers:\", end=\" \")\n",
    "                flag = False\n",
    "\n",
    "            print(number, end=\" \")\n",
    "\n",
    "    if flag:\n",
    "        print(\"No even numbers!\")\n",
    "\n",
    "\n",
    "list_1 = list(range(1, 11))\n",
    "\n",
    "print_evens(list_1)\n"
   ]
  },
  {
   "cell_type": "markdown",
   "metadata": {},
   "source": [
    "# Question:4\n",
    "# Write a Python function that checks whether a passed string is palindrome or not.\n",
    "# Note: A palindrome is a word, phrase, or sequence that reads the same backward as forward, e.g., madam"
   ]
  },
  {
   "cell_type": "code",
   "execution_count": 2,
   "metadata": {},
   "outputs": [
    {
     "name": "stdout",
     "output_type": "stream",
     "text": [
      "Input word is: level\n",
      "'level' is a Palindrome!\n"
     ]
    }
   ],
   "source": [
    "def is_palindrome(word):\n",
    "    word = word.lower()\n",
    "\n",
    "    reversed_word = word[::-1]\n",
    "\n",
    "    print(\"Input word is:\", word)\n",
    "\n",
    "    if word == reversed_word:\n",
    "        print(f\"'{word}' is a Palindrome!\")\n",
    "    else:\n",
    "        print(f\"'{word}' is not a Palindrome!\")\n",
    "\n",
    "\n",
    "is_palindrome(\"level\")\n"
   ]
  },
  {
   "cell_type": "markdown",
   "metadata": {},
   "source": [
    "# Question:5\n",
    "# Write a Python function that takes a number as a parameter and check the number is prime or not."
   ]
  },
  {
   "cell_type": "code",
   "execution_count": 3,
   "metadata": {},
   "outputs": [
    {
     "name": "stdout",
     "output_type": "stream",
     "text": [
      "10 is not a Prime Number!\n"
     ]
    }
   ],
   "source": [
    "def is_prime(number):\n",
    "    if number > 1:\n",
    "        for num in range(2, number):\n",
    "            if number % num == 0:\n",
    "                print(f\"{number} is not a Prime Number!\")\n",
    "                break\n",
    "        else:\n",
    "            print(f\"{number} is a Prime Number!\")\n",
    "    else:\n",
    "        print(f\"{number} is not a Prime Number!\")\n",
    "\n",
    "\n",
    "is_prime(10)\n"
   ]
  },
  {
   "cell_type": "markdown",
   "metadata": {},
   "source": [
    "# Question: 6\n",
    "# Suppose a customer is shopping in a market and you need to print all the items which user bought from market.\n",
    "# Write a function which accepts the multiple arguments of user shopping list and print all the items which user bought from market."
   ]
  },
  {
   "cell_type": "code",
   "execution_count": 4,
   "metadata": {},
   "outputs": [
    {
     "name": "stdout",
     "output_type": "stream",
     "text": [
      "Items Purchased:\n",
      "1. milk\n",
      "2. butter\n",
      "3. bread\n",
      "4. jam\n",
      "5. jelly\n"
     ]
    }
   ],
   "source": [
    "def print_items(*items):\n",
    "    print(\"Items Purchased:\")\n",
    "\n",
    "    for index, item in enumerate(items):\n",
    "        print(f\"{index + 1}.\", item)\n",
    "\n",
    "\n",
    "print_items(\"milk\", \"butter\", \"bread\", \"jam\", \"jelly\")\n"
   ]
  }
 ],
 "metadata": {
  "kernelspec": {
   "display_name": "Python 3",
   "language": "python",
   "name": "python3"
  },
  "language_info": {
   "codemirror_mode": {
    "name": "ipython",
    "version": 3
   },
   "file_extension": ".py",
   "mimetype": "text/x-python",
   "name": "python",
   "nbconvert_exporter": "python",
   "pygments_lexer": "ipython3",
   "version": "3.7.3"
  }
 },
 "nbformat": 4,
 "nbformat_minor": 2
}
