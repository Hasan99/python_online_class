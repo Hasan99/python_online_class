{
 "cells": [
  {
   "cell_type": "markdown",
   "metadata": {},
   "source": [
    "# 1. Make a calculator using Python with addition , subtraction , multiplication , division and power."
   ]
  },
  {
   "cell_type": "code",
   "execution_count": 10,
   "metadata": {},
   "outputs": [
    {
     "name": "stdout",
     "output_type": "stream",
     "text": [
      "*** Operators ***\n",
      "\n",
      "For Addition: +\n",
      "For Subtraction: -\n",
      "For Multiplication: *\n",
      "For Division: /\n",
      "For Power: **\n",
      "\n",
      "Enter Operator: -\n",
      "\n",
      "Enter Number 1: 7\n",
      "Enter Number 2: 6\n",
      "\n",
      " 7.0 - 6.0 = 1.0\n"
     ]
    }
   ],
   "source": [
    "print(\"*** Operators ***\\n\", \"\\nFor Addition: +\", \"\\nFor Subtraction: -\", \"\\nFor Multiplication: *\", \"\\nFor Division: /\",\n",
    "      \"\\nFor Power: **\\n\", sep=\"\")\n",
    "\n",
    "operator = input(\"Enter Operator: \")\n",
    "\n",
    "if operator in [\"+\", \"-\", \"*\", \"/\", \"**\"]:\n",
    "    if operator == \"**\":\n",
    "        base = float(input(\"\\nEnter Base: \"))\n",
    "        power = float(input(\"Enter Power: \"))\n",
    "        print(base, \"^\", power, \"=\", base ** power)\n",
    "    else:\n",
    "        num1 = float(input(\"\\nEnter Number 1: \"))\n",
    "        num2 = float(input(\"Enter Number 2: \"))\n",
    "        if operator == \"+\":\n",
    "            print(\"\\n\", num1, \"+\", num2, \"=\", num1 + num2)\n",
    "        elif operator == \"-\":\n",
    "            print(\"\\n\", num1, \"-\", num2, \"=\", num1 - num2)\n",
    "        elif operator == \"*\":\n",
    "            print(\"\\n\", num1, \"x\", num2, \"=\", num1 * num2)\n",
    "        elif operator == \"/\":\n",
    "            print(\"\\n\", num1, \"/\", num2, \"=\", num1 / num2)\n",
    "else:\n",
    "    print(\"\\nInvalid Operator!\")\n"
   ]
  },
  {
   "cell_type": "markdown",
   "metadata": {},
   "source": [
    "# 2. Write a program to check if there is any numeric value in list using for loop"
   ]
  },
  {
   "cell_type": "code",
   "execution_count": 11,
   "metadata": {},
   "outputs": [
    {
     "name": "stdout",
     "output_type": "stream",
     "text": [
      "List: [1, 'wonder', True, 2, 'happy', 'smile']\n",
      "\n",
      "Numeric values found in list!\n"
     ]
    }
   ],
   "source": [
    "my_list = [1, \"wonder\", True, 2, \"happy\", \"smile\"]\n",
    "\n",
    "print(\"List:\", my_list)\n",
    "\n",
    "numeric = False\n",
    "\n",
    "for i in my_list:\n",
    "    if type(i) == int or type(i) == float:\n",
    "        print(\"\\nNumeric values found in list!\")\n",
    "        numeric = True\n",
    "        break\n",
    "\n",
    "if not numeric:\n",
    "    print(\"\\nNo numeric values found in list!\")\n"
   ]
  },
  {
   "cell_type": "markdown",
   "metadata": {},
   "source": [
    "# 3. Write a Python script to add a key to a dictionary"
   ]
  },
  {
   "cell_type": "code",
   "execution_count": 1,
   "metadata": {},
   "outputs": [
    {
     "name": "stdout",
     "output_type": "stream",
     "text": [
      "Dictionary: {'wasi': '03311234567', 'wali': '03411234567', 'naqi': '03451234567'} \n",
      " \n",
      "After adding new key:\n",
      "\n",
      "Dictionary: {'wasi': '03311234567', 'wali': '03411234567', 'naqi': '03451234567', 'taqi': '03341234567'}\n"
     ]
    }
   ],
   "source": [
    "diary = {\n",
    "    \"wasi\": \"03311234567\",\n",
    "    \"wali\": \"03411234567\",\n",
    "    \"naqi\": \"03451234567\",\n",
    "}\n",
    "\n",
    "print(\"Dictionary:\", diary, \"\\n\", \"\\nAfter adding new key:\\n\")\n",
    "\n",
    "diary[\"taqi\"] = \"03341234567\"\n",
    "\n",
    "print(\"Dictionary:\", diary)\n"
   ]
  },
  {
   "cell_type": "markdown",
   "metadata": {},
   "source": [
    "# 4. Write a Python program to sum all the numeric items in a dictionary"
   ]
  },
  {
   "cell_type": "code",
   "execution_count": 2,
   "metadata": {},
   "outputs": [
    {
     "name": "stdout",
     "output_type": "stream",
     "text": [
      "Dictionary: {'int': 99, 'bool': True, 'float': 99.99, 'str': 'smile'}\n",
      "\n",
      "Sum of Numeric Values = 198.99\n"
     ]
    }
   ],
   "source": [
    "my_dict = {\n",
    "    \"int\": 99,\n",
    "    \"bool\": True,\n",
    "    \"float\": 99.99,\n",
    "    \"str\": \"smile\",\n",
    "}\n",
    "\n",
    "print(\"Dictionary:\", my_dict)\n",
    "\n",
    "sum = 0\n",
    "\n",
    "flag = False\n",
    "\n",
    "for value in my_dict.values():\n",
    "    if type(value) == int or type(value) == float:\n",
    "        flag = True\n",
    "        sum += value\n",
    "\n",
    "if flag:\n",
    "    print(\"\\nSum of Numeric Values =\", sum)\n",
    "else:\n",
    "    print(\"\\nNo numeric value found!\")\n"
   ]
  },
  {
   "cell_type": "markdown",
   "metadata": {},
   "source": [
    "# 5. Write a program to identify duplicate values from list"
   ]
  },
  {
   "cell_type": "code",
   "execution_count": 4,
   "metadata": {},
   "outputs": [
    {
     "name": "stdout",
     "output_type": "stream",
     "text": [
      "List: [11, 21, 12, 2, 3, 4, 5, 6, 7, 16, 11]\n",
      "\n",
      "List of Duplicate Numbers: [11]\n"
     ]
    }
   ],
   "source": [
    "numbers = [11, 21, 12, 2, 3, 4, 5, 6, 7, 16, 11]\n",
    "\n",
    "print(\"List:\", numbers)\n",
    "\n",
    "duplicate_numbers = []\n",
    "\n",
    "for number in numbers:\n",
    "    if numbers.count(number) > 1:\n",
    "        duplicate_numbers.append(number)\n",
    "\n",
    "        while numbers.count(number) != 0:\n",
    "            numbers.remove(number)\n",
    "\n",
    "if len(duplicate_numbers) > 0:\n",
    "    print(\"\\nList of Duplicate Numbers:\", duplicate_numbers)\n",
    "else:\n",
    "    print(\"\\nNo duplicate numbers found!\")\n"
   ]
  },
  {
   "cell_type": "markdown",
   "metadata": {},
   "source": [
    "# 6. Write a Python script to check if a given key already exists in a dictionary"
   ]
  },
  {
   "cell_type": "code",
   "execution_count": 5,
   "metadata": {},
   "outputs": [
    {
     "name": "stdout",
     "output_type": "stream",
     "text": [
      "Dictionary: {'name': 'hasan', 'age': '24'}\n",
      "\n",
      "Key to check is 'age'\n",
      "\n",
      "Key 'age' already exists!\n"
     ]
    }
   ],
   "source": [
    "person = {\n",
    "    \"name\": \"hasan\",\n",
    "    \"age\": \"24\",\n",
    "}\n",
    "\n",
    "print(\"Dictionary:\", person)\n",
    "\n",
    "key = \"age\"\n",
    "\n",
    "print(f\"\\nKey to check is '{key}'\")\n",
    "\n",
    "if key in person:\n",
    "    print(f\"\\nKey '{key}' already exists!\")\n",
    "else:\n",
    "    print(f\"\\nKey '{key}' do not exists!\")\n"
   ]
  }
 ],
 "metadata": {
  "kernelspec": {
   "display_name": "Python 3",
   "language": "python",
   "name": "python3"
  },
  "language_info": {
   "codemirror_mode": {
    "name": "ipython",
    "version": 3
   },
   "file_extension": ".py",
   "mimetype": "text/x-python",
   "name": "python",
   "nbconvert_exporter": "python",
   "pygments_lexer": "ipython3",
   "version": "3.7.3"
  }
 },
 "nbformat": 4,
 "nbformat_minor": 2
}
