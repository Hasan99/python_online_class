{
 "cells": [
  {
   "cell_type": "code",
   "execution_count": 6,
   "metadata": {},
   "outputs": [
    {
     "name": "stdout",
     "output_type": "stream",
     "text": [
      "Enter Maths Marks: 99\n",
      "Enter Physics Marks: 99\n",
      "Enter Chemistry Marks: 99\n",
      "Enter English Marks: 99\n",
      "Enter Urdu Marks: 99\n",
      "\n",
      "******************** MARKSHEET ***************************\n",
      "----------------------------------------------------------\n",
      "SUBJECTS | MARKS OBTAINED | MAX MARKS | RESULT\n",
      "----------------------------------------------------------\n",
      "MATHS\t\t99.0\t\t100\t\tCleared\n",
      "PHYSICS\t\t99.0\t\t100\t\tCleared\n",
      "CHEM\t\t99.0\t\t100\t\tCleared\n",
      "ENGLISH\t\t99.0\t\t100\t\tCleared\n",
      "URDU\t\t99.0\t\t100\t\tCleared\n",
      "----------------------------------------------------------\n",
      "TOTAL:\t\t495.0\t\t500\n",
      "PERCENTAGE: 99.0 %\n",
      "GRADE: A+\n",
      "----------------------------------------------------------\n"
     ]
    }
   ],
   "source": [
    "# 1. Write a program which takes 5 inputs from user for different subject’s\n",
    "# marks, total it and generate mark sheet using grades ?\n",
    "\n",
    "is_failed_in_maths = is_failed_in_phy = is_failed_in_chem = is_failed_in_eng = is_failed_in_urdu = False\n",
    "is_invalid_maths_marks = is_invalid_phy_marks = is_invalid_chem_marks = is_invalid_eng_marks = is_invalid_urdu_marks = False\n",
    "\n",
    "maths = float(input(\"Enter Maths Marks: \"))\n",
    "\n",
    "if maths >= 0 and maths < 33:\n",
    "    is_failed_in_maths = True\n",
    "elif not (maths >= 33 and maths <= 100):\n",
    "    maths = 0\n",
    "    is_failed_in_maths = True\n",
    "    is_invalid_maths_marks = True\n",
    "\n",
    "phy = float(input(\"Enter Physics Marks: \"))\n",
    "\n",
    "if phy >= 0 and phy < 33:\n",
    "    is_failed_in_phy = True\n",
    "elif not (phy >= 33 and phy <= 100):\n",
    "    phy = 0\n",
    "    is_failed_in_phy = True\n",
    "    is_invalid_phy_marks = True\n",
    "\n",
    "chem = float(input(\"Enter Chemistry Marks: \"))\n",
    "\n",
    "if chem >= 0 and chem < 33:\n",
    "    is_failed_in_chem = True\n",
    "elif not (chem >= 33 and chem <= 100):\n",
    "    chem = 0\n",
    "    is_failed_in_chem = True\n",
    "    is_invalid_chem_marks = True\n",
    "\n",
    "eng = float(input(\"Enter English Marks: \"))\n",
    "\n",
    "if eng >= 0 and eng < 33:\n",
    "    is_failed_in_eng = True\n",
    "elif not (eng >= 33 and eng <= 100):\n",
    "    eng = 0\n",
    "    is_failed_in_eng = True\n",
    "    is_invalid_eng_marks = True\n",
    "\n",
    "urdu = float(input(\"Enter Urdu Marks: \"))\n",
    "\n",
    "if urdu >= 0 and urdu < 33:\n",
    "    is_failed_in_urdu = True\n",
    "elif not (urdu >= 33 and urdu <= 100):\n",
    "    urdu = 0\n",
    "    is_failed_in_urdu = True\n",
    "    is_invalid_urdu_marks = True\n",
    "\n",
    "total = maths + phy + chem + eng + urdu\n",
    "percentage = (total / 500) * 100\n",
    "grade = \"\"\n",
    "\n",
    "if percentage >= 80 and percentage <= 100:\n",
    "    grade = \"A+\"\n",
    "elif percentage >= 70:\n",
    "    grade = \"A\"\n",
    "elif percentage >= 60:\n",
    "    grade = \"B\"\n",
    "elif percentage >= 50:\n",
    "    grade = \"C\"\n",
    "elif percentage >= 40:\n",
    "    grade = \"D\"\n",
    "elif percentage >= 30:\n",
    "    grade = \"E\"\n",
    "else:\n",
    "    grade = \"F\"\n",
    "\n",
    "print(\"\\n******************** MARKSHEET ***************************\")\n",
    "print(\"----------------------------------------------------------\")\n",
    "print(\"SUBJECTS\", \"|\", \"MARKS OBTAINED\", \"|\", \"MAX MARKS\", \"|\", \"RESULT\")\n",
    "print(\"----------------------------------------------------------\")\n",
    "print(\"MATHS\", \"NaN\" if is_invalid_maths_marks else maths, \"100\",\n",
    "      \"Not Cleared\" if is_failed_in_maths else \"Cleared\",\n",
    "      sep=\"\\t\\t\")\n",
    "print(\"PHYSICS\", \"NaN\" if is_invalid_phy_marks else phy, \"100\",\n",
    "      \"Not Cleared\" if is_failed_in_phy else \"Cleared\",\n",
    "      sep=\"\\t\\t\")\n",
    "print(\"CHEM\", \"NaN\" if is_invalid_chem_marks else chem, \"100\",\n",
    "      \"Not Cleared\" if is_failed_in_chem else \"Cleared\",\n",
    "      sep=\"\\t\\t\")\n",
    "print(\"ENGLISH\", \"NaN\" if is_invalid_eng_marks else eng, \"100\",\n",
    "      \"Not Cleared\" if is_failed_in_eng else \"Cleared\",\n",
    "      sep=\"\\t\\t\")\n",
    "print(\"URDU\", \"NaN\" if is_invalid_urdu_marks else urdu, \"100\",\n",
    "      \"Not Cleared\" if is_failed_in_urdu else \"Cleared\",\n",
    "      sep=\"\\t\\t\")\n",
    "print(\"----------------------------------------------------------\")\n",
    "print(\"TOTAL:\", round(total, 2), \"500\", sep=\"\\t\\t\")\n",
    "print(\"PERCENTAGE:\", round(percentage, 2), \"%\")\n",
    "print(\"GRADE:\", grade)\n",
    "print(\"----------------------------------------------------------\")\n"
   ]
  },
  {
   "cell_type": "code",
   "execution_count": 8,
   "metadata": {},
   "outputs": [
    {
     "name": "stdout",
     "output_type": "stream",
     "text": [
      "Enter Number: 2\n",
      "2 is even!\n"
     ]
    }
   ],
   "source": [
    "# 2. Write a program which take input from user and identify that the given\n",
    "# number is even or odd?\n",
    "\n",
    "number = int(input(\"Enter Number: \"))\n",
    "\n",
    "if number % 2 == 0:\n",
    "    print(f\"{number} is even!\")\n",
    "else:\n",
    "    print(f\"{number} is odd!\")\n"
   ]
  },
  {
   "cell_type": "code",
   "execution_count": 9,
   "metadata": {},
   "outputs": [
    {
     "name": "stdout",
     "output_type": "stream",
     "text": [
      "List: [1, 2, 3, 4, 5, 6, 7, 8, 9]\n",
      "Length: 9\n"
     ]
    }
   ],
   "source": [
    "# 3. Write a program which print the length of the list?\n",
    "\n",
    "list_1 = [1,2,3,4,5,6,7,8,9]\n",
    "\n",
    "print(\"List:\", list_1)\n",
    "print(\"Length:\", len(list_1))"
   ]
  },
  {
   "cell_type": "code",
   "execution_count": 10,
   "metadata": {},
   "outputs": [
    {
     "name": "stdout",
     "output_type": "stream",
     "text": [
      "List: [1, 'two', 3, 'four', 5, 'six']\n",
      "Sum = 9\n"
     ]
    }
   ],
   "source": [
    "# 4. Write a Python program to sum all the numeric items in a list?\n",
    "\n",
    "list_1 = [1, \"two\", 3, \"four\", 5, \"six\"]\n",
    "\n",
    "sum = 0\n",
    "\n",
    "for num in list_1:\n",
    "    if isinstance(num, int):\n",
    "        sum += num\n",
    "        \n",
    "print(\"List:\", list_1)\n",
    "print(\"Sum =\", sum)"
   ]
  },
  {
   "cell_type": "code",
   "execution_count": 11,
   "metadata": {},
   "outputs": [
    {
     "name": "stdout",
     "output_type": "stream",
     "text": [
      "List: [1, 2, 3, 4, 5, 6, 7, 8, 9]\n",
      "Largest Number:  9\n"
     ]
    }
   ],
   "source": [
    "# 5. Write a Python program to get the largest number from a numeric list.\n",
    "\n",
    "list_1 = [1,2,3,4,5,6,7,8,9]\n",
    "\n",
    "max = list_1[0]\n",
    "\n",
    "for num in list_1:\n",
    "    if num > max:\n",
    "        max = num\n",
    "        \n",
    "print(\"List:\", list_1)\n",
    "print(\"Largest Number: \", max)"
   ]
  },
  {
   "cell_type": "code",
   "execution_count": 12,
   "metadata": {},
   "outputs": [
    {
     "name": "stdout",
     "output_type": "stream",
     "text": [
      "List: [1, 1, 2, 3, 5, 8, 13, 21, 34, 55, 89]\n",
      "Less than 5: 1 1 2 3 "
     ]
    }
   ],
   "source": [
    "# 6. Take a list, say for example this one:\n",
    "# a = [1, 1, 2, 3, 5, 8, 13, 21, 34, 55, 89]\n",
    "# and write a program that prints out all the elements of the list that are\n",
    "# less than 5.\n",
    "\n",
    "a = [1, 1, 2, 3, 5, 8, 13, 21, 34, 55, 89]\n",
    "\n",
    "print(\"List:\", a)\n",
    "print(\"Less than 5:\", end=\" \")\n",
    "for num in a:\n",
    "    if num < 5:\n",
    "        print(num, end=\" \")"
   ]
  }
 ],
 "metadata": {
  "kernelspec": {
   "display_name": "Python 3",
   "language": "python",
   "name": "python3"
  },
  "language_info": {
   "codemirror_mode": {
    "name": "ipython",
    "version": 3
   },
   "file_extension": ".py",
   "mimetype": "text/x-python",
   "name": "python",
   "nbconvert_exporter": "python",
   "pygments_lexer": "ipython3",
   "version": "3.7.3"
  }
 },
 "nbformat": 4,
 "nbformat_minor": 2
}
