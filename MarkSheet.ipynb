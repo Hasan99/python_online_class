{
 "cells": [
  {
   "cell_type": "code",
   "execution_count": 7,
   "metadata": {},
   "outputs": [
    {
     "name": "stdout",
     "output_type": "stream",
     "text": [
      "Enter your percentage: 99\n",
      "A+\n"
     ]
    }
   ],
   "source": [
    "percentage = int(input(\"Enter your percentage: \"))\n",
    "\n",
    "if percentage >= 80 and percentage <= 100:\n",
    "    print(\"A+\")\n",
    "elif percentage >= 70:\n",
    "    print(\"A\")\n",
    "elif percentage >= 60:\n",
    "    print(\"B\")\n",
    "elif percentage >= 50:\n",
    "    print(\"C\")\n",
    "elif percentage >= 40:\n",
    "    print(\"D\")\n",
    "elif percentage >= 33:\n",
    "    print(\"E\")\n",
    "elif percentage >= 0 and percentage < 33:\n",
    "    print(\"Fail\")\n",
    "else:\n",
    "    print(\"Invalid Percentage!\")"
   ]
  }
 ],
 "metadata": {
  "kernelspec": {
   "display_name": "Python 3",
   "language": "python",
   "name": "python3"
  },
  "language_info": {
   "codemirror_mode": {
    "name": "ipython",
    "version": 3
   },
   "file_extension": ".py",
   "mimetype": "text/x-python",
   "name": "python",
   "nbconvert_exporter": "python",
   "pygments_lexer": "ipython3",
   "version": "3.7.3"
  }
 },
 "nbformat": 4,
 "nbformat_minor": 2
}
