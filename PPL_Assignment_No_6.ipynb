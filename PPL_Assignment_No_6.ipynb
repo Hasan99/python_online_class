{
 "cells": [
  {
   "cell_type": "markdown",
   "metadata": {},
   "source": [
    "# Question 1:\n",
    "# Define Object Oriented Programming Language?"
   ]
  },
  {
   "cell_type": "markdown",
   "metadata": {},
   "source": [
    "# Answer:\n",
    "# Object-oriented programming (OOP) is a programming paradigm based on the concept of \"objects\", which can contain data, in the form of fields (often known as attributes or properties), and code, in the form of procedures (often known as methods)."
   ]
  },
  {
   "cell_type": "markdown",
   "metadata": {},
   "source": [
    "# Question 2:\n",
    "# List down the Benefits of OOP?"
   ]
  },
  {
   "cell_type": "markdown",
   "metadata": {},
   "source": [
    "# Answer:\n",
    "# -- Reusing some facilities rather than building it again and again.\n",
    "# -- It makes software easier to maintain.\n",
    "# -- The complexity is reduced and the program structure is very clear.\n",
    "# -- It is easy to make minor changes in the data representation.\n",
    "# -- Objects can be maintained separately."
   ]
  },
  {
   "cell_type": "markdown",
   "metadata": {},
   "source": [
    "# Question 3:\n",
    "# Differentiate between function and method?"
   ]
  },
  {
   "cell_type": "markdown",
   "metadata": {},
   "source": [
    "# Answer:\n",
    "# A function is a piece of code that is called by name. It can be passed data to operate on (i.e. the parameters) and can optionally return data (the return value). All data that is passed to a function is explicitly passed. A method is a piece of code that is called by a name that is associated with an object."
   ]
  },
  {
   "cell_type": "markdown",
   "metadata": {},
   "source": [
    "# Question 4:\n",
    "# Define the following terms:\n",
    "# 1. Class\n",
    "# 2. Object\n",
    "# 3. Attribute\n",
    "# 4. Behavior"
   ]
  },
  {
   "cell_type": "markdown",
   "metadata": {},
   "source": [
    "# Answer:\n",
    "# -- Class: Class is a blueprint.\n",
    "# -- Object: Object is an instance of a class.\n",
    "# -- Attribute: Attributes are data stored inside a class or instance and represent the state or quality of the class or instance.\n",
    "# -- Behavior: Behavior of an object is defined by its methods, which are the functions and subroutines defined within the object class."
   ]
  },
  {
   "cell_type": "markdown",
   "metadata": {},
   "source": [
    "# Question 5:\n",
    "# Write a code in python in which create a class named it Car which have 5 attributes such like (model, color and name etc.) and 3 methods. And create 5 object instance from that class."
   ]
  },
  {
   "cell_type": "code",
   "execution_count": 1,
   "metadata": {},
   "outputs": [],
   "source": [
    "class Car:\n",
    "    def __init__(self, model, color, make, price, reg_number):\n",
    "        self.model = model\n",
    "        self.color = color\n",
    "        self.make = make\n",
    "        self.price = price\n",
    "        self.reg_number = reg_number\n",
    "\n",
    "    def get_car_details(self):\n",
    "        print(\"Make:\", self.make)\n",
    "        print(\"Model:\", self.model)\n",
    "        print(\"Color:\", self.color)\n",
    "        print(\"Price (Rs.):\", self.price)\n",
    "        print(\"Reg. No:\", self.reg_number)\n",
    "\n",
    "    def get_price(self):\n",
    "        print(\"Price (Rs.):\", self.price)\n",
    "\n",
    "    def get_reg_number(self):\n",
    "        print(\"Reg. No:\", self.reg_number)\n",
    "\n",
    "\n",
    "car1 = Car(\"Corolla\", \"White\", \"Toyota\", 3000000, \"ABC - 123\")\n",
    "car2 = Car(\"Camry\", \"Blue\", \"Toyota\", 3000000, \"BBC - 321\")\n",
    "car3 = Car(\"Fortuner\", \"Red\", \"Toyota\", 3000000, \"CAB - 223\")\n",
    "car4 = Car(\"City\", \"Black\", \"Honda\", 3000000, \"CAC - 122\")\n",
    "car5 = Car(\"Civic\", \"Silver\", \"Honda\", 3000000, \"BAC - 221\")\n"
   ]
  }
 ],
 "metadata": {
  "kernelspec": {
   "display_name": "Python 3",
   "language": "python",
   "name": "python3"
  },
  "language_info": {
   "codemirror_mode": {
    "name": "ipython",
    "version": 3
   },
   "file_extension": ".py",
   "mimetype": "text/x-python",
   "name": "python",
   "nbconvert_exporter": "python",
   "pygments_lexer": "ipython3",
   "version": "3.7.3"
  }
 },
 "nbformat": 4,
 "nbformat_minor": 2
}
